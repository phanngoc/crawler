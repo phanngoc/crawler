{
 "cells": [
  {
   "cell_type": "code",
   "execution_count": 5,
   "metadata": {},
   "outputs": [
    {
     "name": "stdout",
     "output_type": "stream",
     "text": [
      "CrawlVietStock::__init__ <selenium.webdriver.chrome.webdriver.WebDriver (session=\"0c8e20fa71936502a0d67550f5b9ec41\")> 20\n",
      "create_driver::driver: <selenium.webdriver.chrome.webdriver.WebDriver (session=\"0c8e20fa71936502a0d67550f5b9ec41\")>\n",
      "CSV file 'backup_title_url.csv' has been truncated.\n",
      "headings_a:len 10\n",
      "heading_elem <selenium.webdriver.remote.webelement.WebElement (session=\"0c8e20fa71936502a0d67550f5b9ec41\", element=\"f.BAB14E97BDFF21D406F09B57038F8F09.d.7EE546F718B5042CA77E28B64005B99A.e.146\")>\n",
      "Title: Nhịp đập Thị trường 05/03: Sắc đỏ lan rộng\n",
      "Link: https://vietstock.vn/2024/03/nhip-dap-thi-truong-0503-sac-do-lan-rong-1636-1161452.htm\n",
      "datePublish 33 phút trước 2024-03-05 10:43:40.621136\n",
      "heading_elem <selenium.webdriver.remote.webelement.WebElement (session=\"0c8e20fa71936502a0d67550f5b9ec41\", element=\"f.BAB14E97BDFF21D406F09B57038F8F09.d.7EE546F718B5042CA77E28B64005B99A.e.147\")>\n",
      "Title: Giá trị vốn hóa thị trường UPCoM cuối tháng 2 gần 1.15 triệu tỷ đồng\n",
      "Link: https://vietstock.vn/2024/03/gia-tri-von-hoa-thi-truong-upcom-cuoi-thang-2-gan-115-trieu-ty-dong-830-1161486.htm\n",
      "datePublish 54 phút trước 2024-03-05 10:22:52.374229\n",
      "heading_elem <selenium.webdriver.remote.webelement.WebElement (session=\"0c8e20fa71936502a0d67550f5b9ec41\", element=\"f.BAB14E97BDFF21D406F09B57038F8F09.d.7EE546F718B5042CA77E28B64005B99A.e.148\")>\n",
      "Title: Cưỡng chế gần 6.3 triệu cp CCL của “ông trùm” xăng giả Trịnh Sướng\n",
      "Link: https://vietstock.vn/2024/03/cuong-che-gan-63-trieu-cp-ccl-cua-ong-trum-xang-gia-trinh-suong-830-1161459.htm\n",
      "datePublish 1 giờ trước 2024-03-05 10:17:05.567039\n",
      "heading_elem <selenium.webdriver.remote.webelement.WebElement (session=\"0c8e20fa71936502a0d67550f5b9ec41\", element=\"f.BAB14E97BDFF21D406F09B57038F8F09.d.7EE546F718B5042CA77E28B64005B99A.e.149\")>\n",
      "Title: Ngày 05/03/2024: 10 cổ phiếu nóng dưới góc nhìn PTKT của Vietstock\n",
      "Link: https://vietstock.vn/2024/03/ngay-05032024-10-co-phieu-nong-duoi-goc-nhin-ptkt-cua-vietstock-585-1161197.htm\n",
      "datePublish 1 giờ trước 2024-03-05 10:17:17.523333\n",
      "heading_elem <selenium.webdriver.remote.webelement.WebElement (session=\"0c8e20fa71936502a0d67550f5b9ec41\", element=\"f.BAB14E97BDFF21D406F09B57038F8F09.d.7EE546F718B5042CA77E28B64005B99A.e.150\")>\n",
      "Title: CII khởi động quá trình thâu tóm NBB?\n",
      "Link: https://vietstock.vn/2024/03/cii-khoi-dong-qua-trinh-thau-tom-nbb-739-1161448.htm\n",
      "datePublish 1 giờ trước 2024-03-05 10:17:28.969624\n",
      "heading_elem <selenium.webdriver.remote.webelement.WebElement (session=\"0c8e20fa71936502a0d67550f5b9ec41\", element=\"f.BAB14E97BDFF21D406F09B57038F8F09.d.7EE546F718B5042CA77E28B64005B99A.e.151\")>\n",
      "Title: Trái phiếu doanh nghiệp tháng 02/2024: Vắng bóng nhóm bất động sản, ngân hàng\n",
      "Link: https://vietstock.vn/2024/03/trai-phieu-doanh-nghiep-thang-022024-vang-bong-nhom-bat-dong-san-ngan-hang-785-1161378.htm\n",
      "datePublish 1 giờ trước 2024-03-05 10:17:37.867988\n",
      "heading_elem <selenium.webdriver.remote.webelement.WebElement (session=\"0c8e20fa71936502a0d67550f5b9ec41\", element=\"f.BAB14E97BDFF21D406F09B57038F8F09.d.7EE546F718B5042CA77E28B64005B99A.e.152\")>\n",
      "Title: Cần ‘hệ thống VAR’ mạnh hơn để hậu kiểm chất lượng cổ phiếu niêm yết?\n",
      "Link: https://vietstock.vn/2024/03/can-8216he-thong-var8217-manh-hon-de-hau-kiem-chat-luong-co-phieu-niem-yet-143-1161438.htm\n",
      "datePublish 1 giờ trước 2024-03-05 10:17:49.824951\n",
      "heading_elem <selenium.webdriver.remote.webelement.WebElement (session=\"0c8e20fa71936502a0d67550f5b9ec41\", element=\"f.BAB14E97BDFF21D406F09B57038F8F09.d.7EE546F718B5042CA77E28B64005B99A.e.153\")>\n",
      "Title: Review ETF quý 1: Quỹ ETF NAV 18,000 tỷ đồng có thể loại MWG, thêm CTD\n",
      "Link: https://vietstock.vn/2024/03/review-etf-quy-1-quy-etf-nav-18000-ty-dong-co-the-loai-mwg-them-ctd-3358-1161236.htm\n",
      "datePublish 2 giờ trước 2024-03-05 09:18:00.282713\n",
      "heading_elem <selenium.webdriver.remote.webelement.WebElement (session=\"0c8e20fa71936502a0d67550f5b9ec41\", element=\"f.BAB14E97BDFF21D406F09B57038F8F09.d.7EE546F718B5042CA77E28B64005B99A.e.154\")>\n",
      "Title: Top cổ phiếu đáng chú ý đầu phiên 05/03\n",
      "Link: https://vietstock.vn/2024/03/top-co-phieu-dang-chu-y-dau-phien-0503-830-1161180.htm\n",
      "datePublish 3 giờ trước 2024-03-05 08:18:08.768359\n",
      "heading_elem <selenium.webdriver.remote.webelement.WebElement (session=\"0c8e20fa71936502a0d67550f5b9ec41\", element=\"f.BAB14E97BDFF21D406F09B57038F8F09.d.7EE546F718B5042CA77E28B64005B99A.e.155\")>\n",
      "Title: 05/03: Đọc gì trước giờ giao dịch chứng khoán?\n",
      "Link: https://vietstock.vn/2024/03/0503-doc-gi-truoc-gio-giao-dich-chung-khoan-830-1161338.htm\n",
      "datePublish 05/03/2024 06:00 2024-03-05 06:00:00\n",
      "headings_a:len 10\n",
      "heading_elem <selenium.webdriver.remote.webelement.WebElement (session=\"0c8e20fa71936502a0d67550f5b9ec41\", element=\"f.BAB14E97BDFF21D406F09B57038F8F09.d.7EE546F718B5042CA77E28B64005B99A.e.170\")>\n",
      "Title: 05/03: Đọc gì trước giờ giao dịch chứng khoán?\n",
      "Link: https://vietstock.vn/2024/03/0503-doc-gi-truoc-gio-giao-dich-chung-khoan-830-1161338.htm\n"
     ]
    }
   ],
   "source": [
    "from imp import reload\n",
    "\n",
    "import cl_crawl.helper as helper\n",
    "import cl_crawl.vtc_new as vtc_new\n",
    "import crawl\n",
    "reload(crawl)\n",
    "reload(helper)\n",
    "\n",
    "\n",
    "tn = crawl.CrawlCafeF()\n",
    "tn.run(daily=True)\n",
    "\n",
    "crawl.VnexpressCrawler().run(daily=True)\n",
    "\n",
    "crawl.VnEconomySpider().run(daily=True)\n",
    "\n",
    "crawl.CrawlThanhNien().run(daily=True)\n",
    "\n",
    "vtc_new.VTCCrawler().run(daily=True)\n",
    "\n",
    "driver = crawl.create_driver()\n",
    "driver2 = crawl.create_driver()\n",
    "\n",
    "vs = crawl.CrawlVietStock(driver=driver, driver2=driver2)\n",
    "vs.run(fresh_start=True, daily=True)\n",
    "\n",
    "driver.quit()\n",
    "driver2.quit()"
   ]
  },
  {
   "cell_type": "code",
   "execution_count": 18,
   "metadata": {},
   "outputs": [
    {
     "name": "stdout",
     "output_type": "stream",
     "text": [
      "11 2023\n"
     ]
    },
    {
     "name": "stderr",
     "output_type": "stream",
     "text": [
      "/Users/ngocp/.pyenv/versions/3.10.3/lib/python3.10/site-packages/dateparser/utils/__init__.py:131: PytzUsageWarning: The localize method is no longer necessary, as this time zone supports the fold attribute (PEP 495). For more details on migrating to a PEP 495-compliant implementation, see https://pytz-deprecation-shim.readthedocs.io/en/latest/migration.html\n",
      "  date_obj = tz.localize(date_obj)\n"
     ]
    }
   ],
   "source": [
    "import dateparser\n",
    "date = '10:10 12/11/2023'\n",
    "publishDate = dateparser.parse(date, date_formats=['%H:%M %d/%m/%Y'])\n",
    "print(publishDate.month, publishDate.year)"
   ]
  },
  {
   "cell_type": "code",
   "execution_count": null,
   "metadata": {},
   "outputs": [],
   "source": [
    "import crawl\n",
    "reload(crawl)\n",
    "reload(helper)\n",
    "\n",
    "crawl.VnEconomySpider().run(daily=False)"
   ]
  },
  {
   "cell_type": "code",
   "execution_count": null,
   "metadata": {},
   "outputs": [
    {
     "name": "stdout",
     "output_type": "stream",
     "text": [
      "tag_items [<a class=\"tag-item\" href=\"/tag/bi-phat-thue\" title=\"bị phạt thuế\">bị phạt thuế</a>, <a class=\"tag-item\" href=\"/tag/chung-khoan\" title=\"chứng khoán\">chứng khoán</a>, <a class=\"tag-item\" href=\"/tag/khg\" title=\"KHG\">KHG</a>, <a class=\"tag-item\" href=\"/tag/vneconomy\" title=\"Vneconomy\">Vneconomy</a>]\n",
      "['bị phạt thuế', 'chứng khoán', 'KHG', 'Vneconomy']\n"
     ]
    }
   ],
   "source": [
    "from bs4 import BeautifulSoup\n",
    "import requests\n",
    "\n",
    "def get_response(url, params = {}):\n",
    "        headers = {\n",
    "            'Access-Control-Allow-Origin': '*',\n",
    "            'Access-Control-Allow-Credentials': 'true',\n",
    "            'Access-Control-Allow-Methods': 'GET, HEAD, POST, PUT, DELETE, TRACE, OPTIONS, PATCH',\n",
    "            'Access-Control-Allow-Headers': \"\"\"X-Real-IP,X-AGENT,Pragma,X-REFERER,X-AUTH-TOKEN,Accept-Encoding,channel,X-XSS-Protection,X-Content-Type-Options,Strict-Transport-Security,Content-Type,Authorization,Accept,Origin,User-Agent,DNT,Cache-Control,X-Mx-ReqToken,Keep-Alive,X-Requested-With,If-Modified-Since,token-id\"\"\",\n",
    "            'Content-Encoding': 'gzip'\n",
    "        }\n",
    "        # Make an HTTP GET request to the API endpoint using the requests library\n",
    "        response = requests.get(url, params=params, headers=headers)\n",
    "        return response\n",
    "\n",
    "html_content = get_response('https://vneconomy.vn/khai-sai-dan-den-thieu-so-tien-thue-phai-nop-khg-bi-xu-phat-hon-2-2-ty-dong.htm').text\n",
    "\n",
    "# print(html_content)\n",
    "# Assuming you have the HTML content stored in a variable called 'html_content'\n",
    "# Replace 'html_content' with your actual HTML content\n",
    "\n",
    "# Parse the HTML content using BeautifulSoup\n",
    "soup = BeautifulSoup(html_content, 'html.parser')\n",
    "\n",
    "# Find all elements with the class \"a.tag-item\"\n",
    "tag_items = soup.find_all('a', {'class': 'tag-item'})\n",
    "print('tag_items', tag_items)\n",
    "# Extract the tags and merge them into a list\n",
    "tag_list = [tag.text for tag in tag_items]\n",
    "\n",
    "# Print the tag list\n",
    "print(tag_list)\n",
    "\n"
   ]
  }
 ],
 "metadata": {
  "kernelspec": {
   "display_name": "Python 3",
   "language": "python",
   "name": "python3"
  },
  "language_info": {
   "codemirror_mode": {
    "name": "ipython",
    "version": 3
   },
   "file_extension": ".py",
   "mimetype": "text/x-python",
   "name": "python",
   "nbconvert_exporter": "python",
   "pygments_lexer": "ipython3",
   "version": "3.10.3"
  },
  "orig_nbformat": 4
 },
 "nbformat": 4,
 "nbformat_minor": 2
}
